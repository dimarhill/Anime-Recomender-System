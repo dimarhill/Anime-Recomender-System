{
 "cells": [
  {
   "cell_type": "markdown",
   "id": "2fce8099",
   "metadata": {},
   "source": [
    "<img src=\"http://imgur.com/1ZcRyrc.png\" style=\"float: left; margin: 28px; height: 77px\"> \n",
    "\n",
    "# Anime Recommender System \n",
    "### *Recommender Sysyem Modeling*\n",
    "---"
   ]
  },
  {
   "cell_type": "markdown",
   "id": "aa4cb589",
   "metadata": {},
   "source": [
    "### Reading in Imports"
   ]
  },
  {
   "cell_type": "code",
   "execution_count": 78,
   "id": "d2ff7d58",
   "metadata": {},
   "outputs": [],
   "source": [
    "import numpy as np\n",
    "import pandas as pd\n",
    "from scipy import sparse\n",
    "from sklearn.metrics.pairwise import pairwise_distances\n",
    "import pickle\n",
    "from IPython.display import HTML"
   ]
  },
  {
   "cell_type": "markdown",
   "id": "53cfb02e",
   "metadata": {},
   "source": [
    "### Reading in Data"
   ]
  },
  {
   "cell_type": "code",
   "execution_count": 79,
   "id": "546508fb",
   "metadata": {
    "scrolled": true
   },
   "outputs": [
    {
     "data": {
      "text/html": [
       "<div>\n",
       "<style scoped>\n",
       "    .dataframe tbody tr th:only-of-type {\n",
       "        vertical-align: middle;\n",
       "    }\n",
       "\n",
       "    .dataframe tbody tr th {\n",
       "        vertical-align: top;\n",
       "    }\n",
       "\n",
       "    .dataframe thead th {\n",
       "        text-align: right;\n",
       "    }\n",
       "</style>\n",
       "<table border=\"1\" class=\"dataframe\">\n",
       "  <thead>\n",
       "    <tr style=\"text-align: right;\">\n",
       "      <th></th>\n",
       "      <th>Unnamed: 0</th>\n",
       "      <th>user_id</th>\n",
       "      <th>anime_id</th>\n",
       "      <th>rating</th>\n",
       "      <th>name</th>\n",
       "    </tr>\n",
       "  </thead>\n",
       "  <tbody>\n",
       "    <tr>\n",
       "      <th>0</th>\n",
       "      <td>1</td>\n",
       "      <td>3</td>\n",
       "      <td>20</td>\n",
       "      <td>8</td>\n",
       "      <td>Naruto</td>\n",
       "    </tr>\n",
       "    <tr>\n",
       "      <th>1</th>\n",
       "      <td>2</td>\n",
       "      <td>5</td>\n",
       "      <td>20</td>\n",
       "      <td>6</td>\n",
       "      <td>Naruto</td>\n",
       "    </tr>\n",
       "    <tr>\n",
       "      <th>2</th>\n",
       "      <td>5</td>\n",
       "      <td>21</td>\n",
       "      <td>20</td>\n",
       "      <td>8</td>\n",
       "      <td>Naruto</td>\n",
       "    </tr>\n",
       "    <tr>\n",
       "      <th>3</th>\n",
       "      <td>6</td>\n",
       "      <td>28</td>\n",
       "      <td>20</td>\n",
       "      <td>9</td>\n",
       "      <td>Naruto</td>\n",
       "    </tr>\n",
       "    <tr>\n",
       "      <th>4</th>\n",
       "      <td>7</td>\n",
       "      <td>34</td>\n",
       "      <td>20</td>\n",
       "      <td>9</td>\n",
       "      <td>Naruto</td>\n",
       "    </tr>\n",
       "  </tbody>\n",
       "</table>\n",
       "</div>"
      ],
      "text/plain": [
       "   Unnamed: 0  user_id  anime_id  rating    name\n",
       "0           1        3        20       8  Naruto\n",
       "1           2        5        20       6  Naruto\n",
       "2           5       21        20       8  Naruto\n",
       "3           6       28        20       9  Naruto\n",
       "4           7       34        20       9  Naruto"
      ]
     },
     "execution_count": 79,
     "metadata": {},
     "output_type": "execute_result"
    }
   ],
   "source": [
    "df = pd.read_csv('../datasets/clean.csv')\n",
    "df.head()"
   ]
  },
  {
   "cell_type": "markdown",
   "id": "ac276c89",
   "metadata": {},
   "source": [
    "### Drop Unnamed:0 Column"
   ]
  },
  {
   "cell_type": "code",
   "execution_count": 80,
   "id": "c8650097",
   "metadata": {
    "scrolled": true
   },
   "outputs": [
    {
     "data": {
      "text/html": [
       "<div>\n",
       "<style scoped>\n",
       "    .dataframe tbody tr th:only-of-type {\n",
       "        vertical-align: middle;\n",
       "    }\n",
       "\n",
       "    .dataframe tbody tr th {\n",
       "        vertical-align: top;\n",
       "    }\n",
       "\n",
       "    .dataframe thead th {\n",
       "        text-align: right;\n",
       "    }\n",
       "</style>\n",
       "<table border=\"1\" class=\"dataframe\">\n",
       "  <thead>\n",
       "    <tr style=\"text-align: right;\">\n",
       "      <th></th>\n",
       "      <th>user_id</th>\n",
       "      <th>anime_id</th>\n",
       "      <th>rating</th>\n",
       "      <th>name</th>\n",
       "    </tr>\n",
       "  </thead>\n",
       "  <tbody>\n",
       "    <tr>\n",
       "      <th>0</th>\n",
       "      <td>3</td>\n",
       "      <td>20</td>\n",
       "      <td>8</td>\n",
       "      <td>Naruto</td>\n",
       "    </tr>\n",
       "    <tr>\n",
       "      <th>1</th>\n",
       "      <td>5</td>\n",
       "      <td>20</td>\n",
       "      <td>6</td>\n",
       "      <td>Naruto</td>\n",
       "    </tr>\n",
       "    <tr>\n",
       "      <th>2</th>\n",
       "      <td>21</td>\n",
       "      <td>20</td>\n",
       "      <td>8</td>\n",
       "      <td>Naruto</td>\n",
       "    </tr>\n",
       "    <tr>\n",
       "      <th>3</th>\n",
       "      <td>28</td>\n",
       "      <td>20</td>\n",
       "      <td>9</td>\n",
       "      <td>Naruto</td>\n",
       "    </tr>\n",
       "    <tr>\n",
       "      <th>4</th>\n",
       "      <td>34</td>\n",
       "      <td>20</td>\n",
       "      <td>9</td>\n",
       "      <td>Naruto</td>\n",
       "    </tr>\n",
       "  </tbody>\n",
       "</table>\n",
       "</div>"
      ],
      "text/plain": [
       "   user_id  anime_id  rating    name\n",
       "0        3        20       8  Naruto\n",
       "1        5        20       6  Naruto\n",
       "2       21        20       8  Naruto\n",
       "3       28        20       9  Naruto\n",
       "4       34        20       9  Naruto"
      ]
     },
     "execution_count": 80,
     "metadata": {},
     "output_type": "execute_result"
    }
   ],
   "source": [
    "df.drop(columns = 'Unnamed: 0', inplace = True)\n",
    "df.head()"
   ]
  },
  {
   "cell_type": "markdown",
   "id": "14c76ef2",
   "metadata": {},
   "source": [
    "### Recommender System Setup with Cosine Distances\n",
    "---"
   ]
  },
  {
   "cell_type": "markdown",
   "id": "c027017d",
   "metadata": {},
   "source": [
    "#### - Pivot table for dataframe"
   ]
  },
  {
   "cell_type": "code",
   "execution_count": 81,
   "id": "348161fe",
   "metadata": {
    "scrolled": true
   },
   "outputs": [
    {
     "data": {
      "text/html": [
       "<div>\n",
       "<style scoped>\n",
       "    .dataframe tbody tr th:only-of-type {\n",
       "        vertical-align: middle;\n",
       "    }\n",
       "\n",
       "    .dataframe tbody tr th {\n",
       "        vertical-align: top;\n",
       "    }\n",
       "\n",
       "    .dataframe thead th {\n",
       "        text-align: right;\n",
       "    }\n",
       "</style>\n",
       "<table border=\"1\" class=\"dataframe\">\n",
       "  <thead>\n",
       "    <tr style=\"text-align: right;\">\n",
       "      <th>user_id</th>\n",
       "      <th>1</th>\n",
       "      <th>2</th>\n",
       "      <th>3</th>\n",
       "      <th>5</th>\n",
       "      <th>7</th>\n",
       "      <th>8</th>\n",
       "      <th>9</th>\n",
       "      <th>10</th>\n",
       "      <th>11</th>\n",
       "      <th>12</th>\n",
       "      <th>...</th>\n",
       "      <th>73507</th>\n",
       "      <th>73508</th>\n",
       "      <th>73509</th>\n",
       "      <th>73510</th>\n",
       "      <th>73511</th>\n",
       "      <th>73512</th>\n",
       "      <th>73513</th>\n",
       "      <th>73514</th>\n",
       "      <th>73515</th>\n",
       "      <th>73516</th>\n",
       "    </tr>\n",
       "    <tr>\n",
       "      <th>name</th>\n",
       "      <th></th>\n",
       "      <th></th>\n",
       "      <th></th>\n",
       "      <th></th>\n",
       "      <th></th>\n",
       "      <th></th>\n",
       "      <th></th>\n",
       "      <th></th>\n",
       "      <th></th>\n",
       "      <th></th>\n",
       "      <th></th>\n",
       "      <th></th>\n",
       "      <th></th>\n",
       "      <th></th>\n",
       "      <th></th>\n",
       "      <th></th>\n",
       "      <th></th>\n",
       "      <th></th>\n",
       "      <th></th>\n",
       "      <th></th>\n",
       "      <th></th>\n",
       "    </tr>\n",
       "  </thead>\n",
       "  <tbody>\n",
       "    <tr>\n",
       "      <th>&amp;quot;0&amp;quot;</th>\n",
       "      <td>NaN</td>\n",
       "      <td>NaN</td>\n",
       "      <td>NaN</td>\n",
       "      <td>NaN</td>\n",
       "      <td>NaN</td>\n",
       "      <td>NaN</td>\n",
       "      <td>NaN</td>\n",
       "      <td>NaN</td>\n",
       "      <td>NaN</td>\n",
       "      <td>NaN</td>\n",
       "      <td>...</td>\n",
       "      <td>NaN</td>\n",
       "      <td>NaN</td>\n",
       "      <td>NaN</td>\n",
       "      <td>NaN</td>\n",
       "      <td>NaN</td>\n",
       "      <td>NaN</td>\n",
       "      <td>NaN</td>\n",
       "      <td>NaN</td>\n",
       "      <td>NaN</td>\n",
       "      <td>NaN</td>\n",
       "    </tr>\n",
       "    <tr>\n",
       "      <th>&amp;quot;Aesop&amp;quot; no Ohanashi yori: Ushi to Kaeru, Yokubatta Inu</th>\n",
       "      <td>NaN</td>\n",
       "      <td>NaN</td>\n",
       "      <td>NaN</td>\n",
       "      <td>NaN</td>\n",
       "      <td>NaN</td>\n",
       "      <td>NaN</td>\n",
       "      <td>NaN</td>\n",
       "      <td>NaN</td>\n",
       "      <td>NaN</td>\n",
       "      <td>NaN</td>\n",
       "      <td>...</td>\n",
       "      <td>NaN</td>\n",
       "      <td>NaN</td>\n",
       "      <td>NaN</td>\n",
       "      <td>NaN</td>\n",
       "      <td>NaN</td>\n",
       "      <td>NaN</td>\n",
       "      <td>NaN</td>\n",
       "      <td>NaN</td>\n",
       "      <td>NaN</td>\n",
       "      <td>NaN</td>\n",
       "    </tr>\n",
       "    <tr>\n",
       "      <th>&amp;quot;Bungaku Shoujo&amp;quot; Kyou no Oyatsu: Hatsukoi</th>\n",
       "      <td>NaN</td>\n",
       "      <td>NaN</td>\n",
       "      <td>NaN</td>\n",
       "      <td>NaN</td>\n",
       "      <td>NaN</td>\n",
       "      <td>NaN</td>\n",
       "      <td>NaN</td>\n",
       "      <td>NaN</td>\n",
       "      <td>NaN</td>\n",
       "      <td>NaN</td>\n",
       "      <td>...</td>\n",
       "      <td>NaN</td>\n",
       "      <td>NaN</td>\n",
       "      <td>NaN</td>\n",
       "      <td>NaN</td>\n",
       "      <td>NaN</td>\n",
       "      <td>NaN</td>\n",
       "      <td>NaN</td>\n",
       "      <td>NaN</td>\n",
       "      <td>NaN</td>\n",
       "      <td>NaN</td>\n",
       "    </tr>\n",
       "    <tr>\n",
       "      <th>&amp;quot;Bungaku Shoujo&amp;quot; Memoire</th>\n",
       "      <td>NaN</td>\n",
       "      <td>NaN</td>\n",
       "      <td>NaN</td>\n",
       "      <td>NaN</td>\n",
       "      <td>NaN</td>\n",
       "      <td>NaN</td>\n",
       "      <td>NaN</td>\n",
       "      <td>NaN</td>\n",
       "      <td>NaN</td>\n",
       "      <td>NaN</td>\n",
       "      <td>...</td>\n",
       "      <td>NaN</td>\n",
       "      <td>NaN</td>\n",
       "      <td>NaN</td>\n",
       "      <td>6.0</td>\n",
       "      <td>NaN</td>\n",
       "      <td>NaN</td>\n",
       "      <td>NaN</td>\n",
       "      <td>NaN</td>\n",
       "      <td>NaN</td>\n",
       "      <td>NaN</td>\n",
       "    </tr>\n",
       "    <tr>\n",
       "      <th>&amp;quot;Bungaku Shoujo&amp;quot; Movie</th>\n",
       "      <td>NaN</td>\n",
       "      <td>NaN</td>\n",
       "      <td>NaN</td>\n",
       "      <td>NaN</td>\n",
       "      <td>NaN</td>\n",
       "      <td>NaN</td>\n",
       "      <td>NaN</td>\n",
       "      <td>NaN</td>\n",
       "      <td>NaN</td>\n",
       "      <td>NaN</td>\n",
       "      <td>...</td>\n",
       "      <td>NaN</td>\n",
       "      <td>NaN</td>\n",
       "      <td>NaN</td>\n",
       "      <td>NaN</td>\n",
       "      <td>NaN</td>\n",
       "      <td>NaN</td>\n",
       "      <td>NaN</td>\n",
       "      <td>NaN</td>\n",
       "      <td>NaN</td>\n",
       "      <td>NaN</td>\n",
       "    </tr>\n",
       "  </tbody>\n",
       "</table>\n",
       "<p>5 rows × 69600 columns</p>\n",
       "</div>"
      ],
      "text/plain": [
       "user_id                                             1      2      3      \\\n",
       "name                                                                      \n",
       "&quot;0&quot;                                         NaN    NaN    NaN   \n",
       "&quot;Aesop&quot; no Ohanashi yori: Ushi to Kae...    NaN    NaN    NaN   \n",
       "&quot;Bungaku Shoujo&quot; Kyou no Oyatsu: Hats...    NaN    NaN    NaN   \n",
       "&quot;Bungaku Shoujo&quot; Memoire                    NaN    NaN    NaN   \n",
       "&quot;Bungaku Shoujo&quot; Movie                      NaN    NaN    NaN   \n",
       "\n",
       "user_id                                             5      7      8      \\\n",
       "name                                                                      \n",
       "&quot;0&quot;                                         NaN    NaN    NaN   \n",
       "&quot;Aesop&quot; no Ohanashi yori: Ushi to Kae...    NaN    NaN    NaN   \n",
       "&quot;Bungaku Shoujo&quot; Kyou no Oyatsu: Hats...    NaN    NaN    NaN   \n",
       "&quot;Bungaku Shoujo&quot; Memoire                    NaN    NaN    NaN   \n",
       "&quot;Bungaku Shoujo&quot; Movie                      NaN    NaN    NaN   \n",
       "\n",
       "user_id                                             9      10     11     \\\n",
       "name                                                                      \n",
       "&quot;0&quot;                                         NaN    NaN    NaN   \n",
       "&quot;Aesop&quot; no Ohanashi yori: Ushi to Kae...    NaN    NaN    NaN   \n",
       "&quot;Bungaku Shoujo&quot; Kyou no Oyatsu: Hats...    NaN    NaN    NaN   \n",
       "&quot;Bungaku Shoujo&quot; Memoire                    NaN    NaN    NaN   \n",
       "&quot;Bungaku Shoujo&quot; Movie                      NaN    NaN    NaN   \n",
       "\n",
       "user_id                                             12     ...  73507  73508  \\\n",
       "name                                                       ...                 \n",
       "&quot;0&quot;                                         NaN  ...    NaN    NaN   \n",
       "&quot;Aesop&quot; no Ohanashi yori: Ushi to Kae...    NaN  ...    NaN    NaN   \n",
       "&quot;Bungaku Shoujo&quot; Kyou no Oyatsu: Hats...    NaN  ...    NaN    NaN   \n",
       "&quot;Bungaku Shoujo&quot; Memoire                    NaN  ...    NaN    NaN   \n",
       "&quot;Bungaku Shoujo&quot; Movie                      NaN  ...    NaN    NaN   \n",
       "\n",
       "user_id                                             73509  73510  73511  \\\n",
       "name                                                                      \n",
       "&quot;0&quot;                                         NaN    NaN    NaN   \n",
       "&quot;Aesop&quot; no Ohanashi yori: Ushi to Kae...    NaN    NaN    NaN   \n",
       "&quot;Bungaku Shoujo&quot; Kyou no Oyatsu: Hats...    NaN    NaN    NaN   \n",
       "&quot;Bungaku Shoujo&quot; Memoire                    NaN    6.0    NaN   \n",
       "&quot;Bungaku Shoujo&quot; Movie                      NaN    NaN    NaN   \n",
       "\n",
       "user_id                                             73512  73513  73514  \\\n",
       "name                                                                      \n",
       "&quot;0&quot;                                         NaN    NaN    NaN   \n",
       "&quot;Aesop&quot; no Ohanashi yori: Ushi to Kae...    NaN    NaN    NaN   \n",
       "&quot;Bungaku Shoujo&quot; Kyou no Oyatsu: Hats...    NaN    NaN    NaN   \n",
       "&quot;Bungaku Shoujo&quot; Memoire                    NaN    NaN    NaN   \n",
       "&quot;Bungaku Shoujo&quot; Movie                      NaN    NaN    NaN   \n",
       "\n",
       "user_id                                             73515  73516  \n",
       "name                                                              \n",
       "&quot;0&quot;                                         NaN    NaN  \n",
       "&quot;Aesop&quot; no Ohanashi yori: Ushi to Kae...    NaN    NaN  \n",
       "&quot;Bungaku Shoujo&quot; Kyou no Oyatsu: Hats...    NaN    NaN  \n",
       "&quot;Bungaku Shoujo&quot; Memoire                    NaN    NaN  \n",
       "&quot;Bungaku Shoujo&quot; Movie                      NaN    NaN  \n",
       "\n",
       "[5 rows x 69600 columns]"
      ]
     },
     "execution_count": 81,
     "metadata": {},
     "output_type": "execute_result"
    }
   ],
   "source": [
    "rating_mx = pd.pivot_table(\n",
    "    df,\n",
    "    index='name',\n",
    "    columns='user_id',\n",
    "    values='rating'\n",
    ")\n",
    "\n",
    "rating_mx.head()"
   ]
  },
  {
   "cell_type": "markdown",
   "id": "4d15fd29",
   "metadata": {},
   "source": [
    "#### - Sparse Matrix"
   ]
  },
  {
   "cell_type": "code",
   "execution_count": 82,
   "id": "9b838ee6",
   "metadata": {},
   "outputs": [],
   "source": [
    "ratings_sparse = sparse.csr_matrix(rating_mx.fillna(0))"
   ]
  },
  {
   "cell_type": "markdown",
   "id": "e40888dc",
   "metadata": {},
   "source": [
    "#### - Cosine distances for similarities"
   ]
  },
  {
   "cell_type": "code",
   "execution_count": 83,
   "id": "3dd2c923",
   "metadata": {},
   "outputs": [],
   "source": [
    "dists = pairwise_distances(ratings_sparse, metric='cosine')"
   ]
  },
  {
   "cell_type": "markdown",
   "id": "65ae2e4b",
   "metadata": {},
   "source": [
    "#### - Create Dataframe"
   ]
  },
  {
   "cell_type": "code",
   "execution_count": 84,
   "id": "ce753e82",
   "metadata": {},
   "outputs": [],
   "source": [
    "df_rec = pd.DataFrame(dists, columns=rating_mx.index, index=rating_mx.index)"
   ]
  },
  {
   "cell_type": "markdown",
   "id": "9bca740e",
   "metadata": {},
   "source": [
    "### Example Recommendation\n",
    "---"
   ]
  },
  {
   "cell_type": "code",
   "execution_count": 85,
   "id": "4d527b2b",
   "metadata": {
    "scrolled": true
   },
   "outputs": [
    {
     "data": {
      "text/plain": [
       "name\n",
       "Ghost in the Shell                                               1.000000\n",
       "Ghost in the Shell 2: Innocence                                  0.631306\n",
       "Ghost in the Shell: Stand Alone Complex                          0.539704\n",
       "Akira                                                            0.497596\n",
       "Ghost in the Shell: Stand Alone Complex 2nd GIG                  0.483078\n",
       "Cowboy Bebop                                                     0.456209\n",
       "Neon Genesis Evangelion                                          0.440300\n",
       "Ghost in the Shell: Stand Alone Complex - Solid State Society    0.432845\n",
       "Cowboy Bebop: Tengoku no Tobira                                  0.421683\n",
       "Neon Genesis Evangelion: The End of Evangelion                   0.409675\n",
       "Name: Ghost in the Shell, dtype: float64"
      ]
     },
     "execution_count": 85,
     "metadata": {},
     "output_type": "execute_result"
    }
   ],
   "source": [
    "1 - df_rec['Ghost in the Shell'].sort_values().head(10)"
   ]
  },
  {
   "cell_type": "code",
   "execution_count": 86,
   "id": "fed47ebd",
   "metadata": {},
   "outputs": [],
   "source": [
    "df = pd.DataFrame(1 - df_rec['Cowboy Bebop'].sort_values().head(10))\n",
    "df['url'] = 'https://www.justwatch.com/us/search?q=' + df.index.astype(str).str.replace(' ' , '%20')"
   ]
  },
  {
   "cell_type": "code",
   "execution_count": 87,
   "id": "41612fe2",
   "metadata": {
    "scrolled": false
   },
   "outputs": [
    {
     "data": {
      "text/html": [
       "<table border=\"1\" class=\"dataframe\">\n",
       "  <thead>\n",
       "    <tr style=\"text-align: right;\">\n",
       "      <th></th>\n",
       "      <th>Cowboy Bebop</th>\n",
       "      <th>url</th>\n",
       "    </tr>\n",
       "    <tr>\n",
       "      <th>name</th>\n",
       "      <th></th>\n",
       "      <th></th>\n",
       "    </tr>\n",
       "  </thead>\n",
       "  <tbody>\n",
       "    <tr>\n",
       "      <th>Cowboy Bebop</th>\n",
       "      <td>1.000000</td>\n",
       "      <td><a href=\"https://www.justwatch.com/us/search?q=Cowboy%20Bebop\" target=\"_blank\">https://www.justwatch.com/us/search?q=Cowboy%20Bebop</a></td>\n",
       "    </tr>\n",
       "    <tr>\n",
       "      <th>Cowboy Bebop: Tengoku no Tobira</th>\n",
       "      <td>0.607757</td>\n",
       "      <td><a href=\"https://www.justwatch.com/us/search?q=Cowboy%20Bebop:%20Tengoku%20no%20Tobira\" target=\"_blank\">https://www.justwatch.com/us/search?q=Cowboy%20Bebop:%20Tengoku%20no%20Tobira</a></td>\n",
       "    </tr>\n",
       "    <tr>\n",
       "      <th>Samurai Champloo</th>\n",
       "      <td>0.550237</td>\n",
       "      <td><a href=\"https://www.justwatch.com/us/search?q=Samurai%20Champloo\" target=\"_blank\">https://www.justwatch.com/us/search?q=Samurai%20Champloo</a></td>\n",
       "    </tr>\n",
       "    <tr>\n",
       "      <th>Trigun</th>\n",
       "      <td>0.534823</td>\n",
       "      <td><a href=\"https://www.justwatch.com/us/search?q=Trigun\" target=\"_blank\">https://www.justwatch.com/us/search?q=Trigun</a></td>\n",
       "    </tr>\n",
       "    <tr>\n",
       "      <th>FLCL</th>\n",
       "      <td>0.506804</td>\n",
       "      <td><a href=\"https://www.justwatch.com/us/search?q=FLCL\" target=\"_blank\">https://www.justwatch.com/us/search?q=FLCL</a></td>\n",
       "    </tr>\n",
       "    <tr>\n",
       "      <th>Neon Genesis Evangelion</th>\n",
       "      <td>0.501355</td>\n",
       "      <td><a href=\"https://www.justwatch.com/us/search?q=Neon%20Genesis%20Evangelion\" target=\"_blank\">https://www.justwatch.com/us/search?q=Neon%20Genesis%20Evangelion</a></td>\n",
       "    </tr>\n",
       "    <tr>\n",
       "      <th>Tengen Toppa Gurren Lagann</th>\n",
       "      <td>0.472579</td>\n",
       "      <td><a href=\"https://www.justwatch.com/us/search?q=Tengen%20Toppa%20Gurren%20Lagann\" target=\"_blank\">https://www.justwatch.com/us/search?q=Tengen%20Toppa%20Gurren%20Lagann</a></td>\n",
       "    </tr>\n",
       "    <tr>\n",
       "      <th>Akira</th>\n",
       "      <td>0.465730</td>\n",
       "      <td><a href=\"https://www.justwatch.com/us/search?q=Akira\" target=\"_blank\">https://www.justwatch.com/us/search?q=Akira</a></td>\n",
       "    </tr>\n",
       "    <tr>\n",
       "      <th>Ghost in the Shell</th>\n",
       "      <td>0.456209</td>\n",
       "      <td><a href=\"https://www.justwatch.com/us/search?q=Ghost%20in%20the%20Shell\" target=\"_blank\">https://www.justwatch.com/us/search?q=Ghost%20in%20the%20Shell</a></td>\n",
       "    </tr>\n",
       "    <tr>\n",
       "      <th>Black Lagoon</th>\n",
       "      <td>0.456098</td>\n",
       "      <td><a href=\"https://www.justwatch.com/us/search?q=Black%20Lagoon\" target=\"_blank\">https://www.justwatch.com/us/search?q=Black%20Lagoon</a></td>\n",
       "    </tr>\n",
       "  </tbody>\n",
       "</table>"
      ],
      "text/plain": [
       "<IPython.core.display.HTML object>"
      ]
     },
     "execution_count": 87,
     "metadata": {},
     "output_type": "execute_result"
    }
   ],
   "source": [
    "HTML(df.to_html(render_links=True, escape=False))"
   ]
  },
  {
   "cell_type": "markdown",
   "id": "d677db07",
   "metadata": {},
   "source": [
    "### Export for Streamlit"
   ]
  },
  {
   "cell_type": "code",
   "execution_count": 15,
   "id": "3845319f",
   "metadata": {},
   "outputs": [],
   "source": [
    "df_rec.insert(0, \"name\", df_rec.index)"
   ]
  },
  {
   "cell_type": "code",
   "execution_count": 16,
   "id": "9d04c549",
   "metadata": {},
   "outputs": [],
   "source": [
    "df_rec.to_pickle('../datasets/rec.plk')"
   ]
  },
  {
   "cell_type": "code",
   "execution_count": 17,
   "id": "90cbde52",
   "metadata": {},
   "outputs": [],
   "source": [
    "pickle.dump(dists,open(\"dists.pkl\",\"wb\"))"
   ]
  },
  {
   "cell_type": "code",
   "execution_count": 18,
   "id": "1e2506d8",
   "metadata": {},
   "outputs": [],
   "source": [
    "pickle.dump(df_rec,open(\"movie_recom.pkl\",\"wb\"))"
   ]
  },
  {
   "cell_type": "code",
   "execution_count": null,
   "id": "0774bc41",
   "metadata": {},
   "outputs": [],
   "source": []
  }
 ],
 "metadata": {
  "kernelspec": {
   "display_name": "Python 3 (ipykernel)",
   "language": "python",
   "name": "python3"
  },
  "language_info": {
   "codemirror_mode": {
    "name": "ipython",
    "version": 3
   },
   "file_extension": ".py",
   "mimetype": "text/x-python",
   "name": "python",
   "nbconvert_exporter": "python",
   "pygments_lexer": "ipython3",
   "version": "3.9.12"
  }
 },
 "nbformat": 4,
 "nbformat_minor": 5
}
